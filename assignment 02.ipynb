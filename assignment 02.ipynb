{
 "cells": [
  {
   "cell_type": "markdown",
   "id": "e2cf5610",
   "metadata": {},
   "source": [
    "#1.What are the two values of the Boolean data type? How do you write them?"
   ]
  },
  {
   "cell_type": "code",
   "execution_count": 1,
   "id": "a7ac614f",
   "metadata": {},
   "outputs": [],
   "source": [
    "# \"\"A boolean is a data type with two possible values: true (1) or false (0).\n",
    "# True and False, using capital T and F, with the rest of the word in lowercase \"\""
   ]
  },
  {
   "cell_type": "markdown",
   "id": "cd0561ee",
   "metadata": {},
   "source": [
    "#2. What are the three different types of Boolean operators?"
   ]
  },
  {
   "cell_type": "code",
   "execution_count": 3,
   "id": "2c24d76c",
   "metadata": {},
   "outputs": [],
   "source": [
    " # \"\"Boolean Operators are simple words (AND, OR, NOT or AND NOT) used as conjunctions to combine \n",
    " # or exclude keywords in a search, resulting in more focused and productive results.\"\""
   ]
  },
  {
   "cell_type": "markdown",
   "id": "98d9d7b0",
   "metadata": {},
   "source": [
    "#3 Make a list of each Boolean operator's truth tables (i.e. every possible combination of Boolean\n",
    "#values for the operator and what it evaluate )."
   ]
  },
  {
   "cell_type": "code",
   "execution_count": 6,
   "id": "03c99b88",
   "metadata": {},
   "outputs": [],
   "source": [
    "# True and True is True.\n",
    "\n",
    "# True and False is False.\n",
    "\n",
    "# False and True is False.\n",
    "\n",
    "# False and False is False.\n",
    "\n",
    "# True or True is True.\n",
    "\n",
    "# True or False is True.\n",
    "\n",
    "# False or True is True.\n",
    "\n",
    "# False or False is False.\n",
    "\n",
    "# not True is False.\n",
    "\n",
    "# not False is True.\n",
    "\n",
    "\n",
    "# True is 1 and False is 0\n",
    "\n",
    "\n",
    "#Truth Table for AND\n",
    "#A B output\n",
    "#0 0 0\n",
    "#0 1 0\n",
    "#1 0 0\n",
    "#1 1 1\n",
    "#Truth Table for OR\n",
    "#A B output\n",
    "#0 0 0\n",
    "#0 1 1\n",
    "#1 0 1\n",
    "#1 1 1\n",
    "#Truth Table for NOT\n",
    "#A output\n",
    "#0 1\n",
    "#1 0\n",
    "\n"
   ]
  },
  {
   "cell_type": "markdown",
   "id": "12e0394d",
   "metadata": {},
   "source": [
    "#4 What are the values of the following expressions?"
   ]
  },
  {
   "cell_type": "code",
   "execution_count": 7,
   "id": "da75cc10",
   "metadata": {},
   "outputs": [
    {
     "name": "stdout",
     "output_type": "stream",
     "text": [
      "False\n",
      "False\n",
      "True\n",
      "False\n",
      "False\n",
      "True\n"
     ]
    }
   ],
   "source": [
    "print((5>4) and (3==5))\n",
    "print(not(5>4))\n",
    "print((5>4) or (3==5))\n",
    "print(not(5>4) or (3==5))\n",
    "print((True and True) and (True==False))\n",
    "print((not(False))or(not(True)))"
   ]
  },
  {
   "cell_type": "markdown",
   "id": "b3fb9b62",
   "metadata": {},
   "source": [
    "#5. What are the six comparison operators?"
   ]
  },
  {
   "cell_type": "code",
   "execution_count": 9,
   "id": "9f943528",
   "metadata": {},
   "outputs": [],
   "source": [
    " #  ==, !=, <, >, <=, and >="
   ]
  },
  {
   "cell_type": "markdown",
   "id": "6078a6e1",
   "metadata": {},
   "source": [
    "#6. How do you tell the difference between the equal to and assignment operators?Describe a condition and when you would use one."
   ]
  },
  {
   "cell_type": "code",
   "execution_count": 10,
   "id": "3e8d7b5a",
   "metadata": {},
   "outputs": [],
   "source": [
    "# == is the equal to operator that compares two values and evaluates to a Boolean, \n",
    "# while = is the assignment operator that stores a value in a variable."
   ]
  },
  {
   "cell_type": "code",
   "execution_count": 11,
   "id": "fd5f7311",
   "metadata": {},
   "outputs": [
    {
     "name": "stdout",
     "output_type": "stream",
     "text": [
      "False\n",
      "c = 1\n"
     ]
    }
   ],
   "source": [
    "#eg.\n",
    "\n",
    "# Equal To Operator\n",
    "if(2==3):\n",
    "    print(\"True\")\n",
    "else:\n",
    "    print(\"False\")\n",
    "#Assignment operator\n",
    "c=1 #here we have used assignment operator(=) to assign value of c which is 1\n",
    "print(\"c =\",c)"
   ]
  },
  {
   "cell_type": "markdown",
   "id": "17a5ab58",
   "metadata": {},
   "source": [
    "#7. Identify the three blocks in this code:"
   ]
  },
  {
   "cell_type": "code",
   "execution_count": 12,
   "id": "b6d401eb",
   "metadata": {},
   "outputs": [
    {
     "name": "stdout",
     "output_type": "stream",
     "text": [
      "ham\n",
      "spam\n",
      "spam\n"
     ]
    }
   ],
   "source": [
    "spam = 0\n",
    "if spam == 10:\n",
    "    print('eggs') #Block 1\n",
    "if spam > 5:\n",
    "    print('bacon') #Block 2\n",
    "else:\n",
    "    print('ham') #Block 3\n",
    "    print('spam')\n",
    "    print('spam')"
   ]
  },
  {
   "cell_type": "markdown",
   "id": "b8be667f",
   "metadata": {},
   "source": [
    "#8. Write code that prints Hello if 1 is stored in spam, prints Howdy if 2 is stored in spam, and prints Greetings! if anything else is stored in spam."
   ]
  },
  {
   "cell_type": "code",
   "execution_count": 13,
   "id": "d94963c8",
   "metadata": {},
   "outputs": [
    {
     "name": "stdout",
     "output_type": "stream",
     "text": [
      "Input a no.25\n",
      "Greetings!\n"
     ]
    }
   ],
   "source": [
    "spam = int(input(\"Input a no.\"))\n",
    "if spam == 1:\n",
    "    print(\"Hello\")\n",
    "elif spam == 2:\n",
    "    print(\"Howdy\")\n",
    "else:\n",
    "    print(\"Greetings!\")"
   ]
  },
  {
   "cell_type": "markdown",
   "id": "7649c369",
   "metadata": {},
   "source": [
    "#9.If your programme is stuck in an endless loop, what keys you’ll press?"
   ]
  },
  {
   "cell_type": "code",
   "execution_count": 14,
   "id": "7ae38559",
   "metadata": {},
   "outputs": [],
   "source": [
    "# If program is stuck in endless loop we will press ctrl+c.\n"
   ]
  },
  {
   "cell_type": "markdown",
   "id": "99a28ec5",
   "metadata": {},
   "source": [
    "#10. How can you tell the difference between break and continue?"
   ]
  },
  {
   "cell_type": "code",
   "execution_count": 15,
   "id": "20cba986",
   "metadata": {},
   "outputs": [
    {
     "name": "stdout",
     "output_type": "stream",
     "text": [
      "0\n",
      "1\n",
      "2\n",
      "3\n",
      "4\n",
      "5\n",
      "6\n",
      "Breaked\n",
      "0\n",
      "1\n",
      "2\n",
      "3\n",
      "4\n",
      "5\n",
      "6\n",
      "8\n",
      "9\n"
     ]
    }
   ],
   "source": [
    "# use of break\n",
    "for i in range(10):\n",
    "    if(i==7):\n",
    "        break\n",
    "    print(i)\n",
    "    \n",
    "print('Breaked')\n",
    "\n",
    "\n",
    "#use of  continue\n",
    "for i in range(10):\n",
    "    if(i==7):\n",
    "        continue\n",
    "    print(i)\n",
    "    \n",
    "    \n",
    "    # The break statement will move the execution outside and just after a loop.\n",
    "    # The continue statement will move the execution to the start of the loop.\n",
    "    "
   ]
  },
  {
   "cell_type": "markdown",
   "id": "f9a4eb61",
   "metadata": {},
   "source": [
    "#11. In a for loop, what is the difference between range(10), range(0, 10), and range(0, 10, 1)?"
   ]
  },
  {
   "cell_type": "code",
   "execution_count": 16,
   "id": "276ef70b",
   "metadata": {},
   "outputs": [
    {
     "name": "stdout",
     "output_type": "stream",
     "text": [
      "0\n",
      "1\n",
      "2\n",
      "3\n",
      "4\n",
      "5\n",
      "6\n",
      "7\n",
      "8\n",
      "9\n",
      "----------------------------------------------------------\n",
      "0\n",
      "1\n",
      "2\n",
      "3\n",
      "4\n",
      "5\n",
      "6\n",
      "7\n",
      "8\n",
      "9\n",
      "----------------------------------------------------------\n",
      "0\n",
      "1\n",
      "2\n",
      "3\n",
      "4\n",
      "5\n",
      "6\n",
      "7\n",
      "8\n",
      "9\n"
     ]
    }
   ],
   "source": [
    "for i in range(10):\n",
    "    print(i)\n",
    "print(\"----------------------------------------------------------\") \n",
    "for i in range(0,10):\n",
    "    print(i)\n",
    "print(\"----------------------------------------------------------\")\n",
    "for i in range(0,10,1):\n",
    "    print(i)\n",
    "    \n",
    "    \n",
    "    \n",
    "    \n",
    "    # From the above output we can conclude that they all do the same thing. \n",
    "    # The range(10) call ranges from 0 up to (but not including) 10, \n",
    "    # range(0, 10) tells the loop to start at 0,\n",
    "    # and range(0, 10, 1) tells the loop to increase the variable by 1 on each iteration."
   ]
  },
  {
   "cell_type": "markdown",
   "id": "7e844d55",
   "metadata": {},
   "source": [
    "#12. Write a short program that prints the numbers 1 to 10 using a for loop. Then write an equivalent program that prints the numbers 1 to 10 using a while loop."
   ]
  },
  {
   "cell_type": "code",
   "execution_count": 17,
   "id": "cc7be975",
   "metadata": {},
   "outputs": [
    {
     "name": "stdout",
     "output_type": "stream",
     "text": [
      "For Loop\n",
      "1\n",
      "2\n",
      "3\n",
      "4\n",
      "5\n",
      "6\n",
      "7\n",
      "8\n",
      "9\n",
      "10\n",
      "While Loop\n",
      "1\n",
      "2\n",
      "3\n",
      "4\n",
      "5\n",
      "6\n",
      "7\n",
      "8\n",
      "9\n",
      "10\n"
     ]
    }
   ],
   "source": [
    "#Use of For Loop\n",
    "\n",
    "print(\"For Loop\")\n",
    "for i in range(1,11):\n",
    "    print(i)\n",
    "    \n",
    "#Use of While Loop\n",
    "\n",
    "print(\"While Loop\")\n",
    "a =1\n",
    "while a <= 10:\n",
    "    print(a)\n",
    "    a+=1"
   ]
  },
  {
   "cell_type": "markdown",
   "id": "72385c8e",
   "metadata": {},
   "source": [
    "#13. If you had a function named bacon() inside a module named spam, how would you call it after importing spam?"
   ]
  },
  {
   "cell_type": "code",
   "execution_count": 18,
   "id": "7196c567",
   "metadata": {},
   "outputs": [],
   "source": [
    "# This function can be called with spam.bacon()"
   ]
  },
  {
   "cell_type": "code",
   "execution_count": null,
   "id": "1030f187",
   "metadata": {},
   "outputs": [],
   "source": []
  }
 ],
 "metadata": {
  "kernelspec": {
   "display_name": "Python 3 (ipykernel)",
   "language": "python",
   "name": "python3"
  },
  "language_info": {
   "codemirror_mode": {
    "name": "ipython",
    "version": 3
   },
   "file_extension": ".py",
   "mimetype": "text/x-python",
   "name": "python",
   "nbconvert_exporter": "python",
   "pygments_lexer": "ipython3",
   "version": "3.10.9"
  }
 },
 "nbformat": 4,
 "nbformat_minor": 5
}
