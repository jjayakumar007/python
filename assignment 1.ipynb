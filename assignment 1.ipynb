{
 "cells": [
  {
   "cell_type": "markdown",
   "id": "5bdbd5ea",
   "metadata": {},
   "source": [
    "#1. In the below elements which of them are values or an expression? eg:- values can be\n",
    "integer or string and expressions will be mathematical operators.\n",
    "*\n",
    "'hello'\n",
    "-87.8\n",
    "-\n",
    "/\n",
    "+\n",
    "6"
   ]
  },
  {
   "cell_type": "code",
   "execution_count": 2,
   "id": "69f25f5b",
   "metadata": {},
   "outputs": [
    {
     "name": "stdout",
     "output_type": "stream",
     "text": [
      "*\n",
      "hello\n",
      "-87.8\n",
      "- / +\n",
      "6\n"
     ]
    }
   ],
   "source": [
    "#    * is an expersion\n",
    "print(\"*\")\n",
    "#   \"hello\" is an string carries values\n",
    "print(\"hello\")\n",
    "#  -87.8 is an float caries value\n",
    "print(-87.8)\n",
    "#   -,/,+ are expersion \n",
    "print(\"-\",\"/\",\"+\")\n",
    "#   6 is an integer\n",
    "print(6)"
   ]
  },
  {
   "cell_type": "markdown",
   "id": "61bdeb6a",
   "metadata": {},
   "source": [
    "#2. What is the difference between string and variable?\n"
   ]
  },
  {
   "cell_type": "code",
   "execution_count": 7,
   "id": "7c82fddc",
   "metadata": {},
   "outputs": [
    {
     "name": "stdout",
     "output_type": "stream",
     "text": [
      "Welcome to SoloLearn\n"
     ]
    }
   ],
   "source": [
    "#A Variable is a store of information, and a String is a type of information you would store in a Variable. A String is usually words, enclosed with \"\"\n",
    "\n",
    "#Eg\n",
    "x =\"Welcome to SoloLearn\"\n",
    "print(x)\n",
    "# X is the Variable, and we declared it as a String,\n",
    "# variable is any alphabet or group of alphabet which work as temporary storage locations ,\n",
    "# a variable is used to represent any value\n"
   ]
  },
  {
   "cell_type": "markdown",
   "id": "97d0c8c7",
   "metadata": {},
   "source": [
    "#3. Describe three different data types."
   ]
  },
  {
   "cell_type": "code",
   "execution_count": 9,
   "id": "ad05a538",
   "metadata": {},
   "outputs": [
    {
     "name": "stdout",
     "output_type": "stream",
     "text": [
      "100\n",
      "-258.039\n",
      "ineuron\n"
     ]
    }
   ],
   "source": [
    "# Integer = Numaric value\n",
    "print(100)\n",
    "# Float   = Decimal values or fractional numbers \n",
    "print(-258.039)\n",
    "# String  = Groups of Characters\n",
    "print(\"ineuron\")"
   ]
  },
  {
   "cell_type": "markdown",
   "id": "1baf1c3a",
   "metadata": {},
   "source": [
    "#4. What is an expression made up of? What do all expressions do?\n"
   ]
  },
  {
   "cell_type": "code",
   "execution_count": 13,
   "id": "f2361ad6",
   "metadata": {},
   "outputs": [
    {
     "name": "stdout",
     "output_type": "stream",
     "text": [
      "3\n"
     ]
    }
   ],
   "source": [
    "# A combination of operands and operators\n",
    "n1= 1\n",
    "n2= 2\n",
    "n3= n1+n2\n",
    "print(n3)\n",
    "\n",
    "# Expressions are representations of value\n",
    "# For example any string is also an expressions since it represents the value of the string as well.\n",
    "# All expressions evaluate (that is, reduce) to a single value."
   ]
  },
  {
   "cell_type": "markdown",
   "id": "a2599e26",
   "metadata": {},
   "source": [
    "#5. This assignment statements, like spam = 10. What is the difference between an\n",
    "expression and a statement?\n"
   ]
  },
  {
   "cell_type": "code",
   "execution_count": 14,
   "id": "7e515e0c",
   "metadata": {},
   "outputs": [
    {
     "name": "stdout",
     "output_type": "stream",
     "text": [
      "10\n"
     ]
    }
   ],
   "source": [
    "# An expression evaluates to a single value. A statement does not.\n",
    "spam = 10\n",
    "print(spam)"
   ]
  },
  {
   "cell_type": "markdown",
   "id": "db9228aa",
   "metadata": {},
   "source": [
    "#6. After running the following code, what does the variable bacon contain?\n",
    "bacon = 22\n",
    "bacon + 1"
   ]
  },
  {
   "cell_type": "code",
   "execution_count": 15,
   "id": "f55e3dd5",
   "metadata": {},
   "outputs": [
    {
     "name": "stdout",
     "output_type": "stream",
     "text": [
      "23\n"
     ]
    }
   ],
   "source": [
    "bacon = 22\n",
    "bacon +1\n",
    "print(bacon+1)\n",
    "\n",
    "\n",
    "# The bacon variable is set to 20. The bacon + 1 expression does not reassign the value in bacon \n",
    "# (that would need an assignment statement: bacon = bacon + 1)"
   ]
  },
  {
   "cell_type": "markdown",
   "id": "97ad95bc",
   "metadata": {},
   "source": [
    "#7. What should the values of the following two terms be?\n",
    "'spam' + 'spamspam'\n",
    "'spam' * 3"
   ]
  },
  {
   "cell_type": "code",
   "execution_count": 17,
   "id": "7a48b9f8",
   "metadata": {},
   "outputs": [
    {
     "name": "stdout",
     "output_type": "stream",
     "text": [
      "spamspamspam\n",
      "spamspamspam\n"
     ]
    }
   ],
   "source": [
    "x= \"spam\"+\"spamspam\"\n",
    "print(x)\n",
    "y= \"spam\"* 3\n",
    "print(y)\n",
    "\n",
    "# Both expressions evaluate to the string 'spamspamspam'"
   ]
  },
  {
   "cell_type": "markdown",
   "id": "5e52b357",
   "metadata": {},
   "source": [
    "#8. Why is eggs a valid variable name while 100 is invalid?"
   ]
  },
  {
   "cell_type": "code",
   "execution_count": 19,
   "id": "c48abbd9",
   "metadata": {},
   "outputs": [
    {
     "ename": "SyntaxError",
     "evalue": "invalid syntax (2829725488.py, line 3)",
     "output_type": "error",
     "traceback": [
      "\u001b[1;36m  Cell \u001b[1;32mIn[19], line 3\u001b[1;36m\u001b[0m\n\u001b[1;33m    100 == non variable\u001b[0m\n\u001b[1;37m               ^\u001b[0m\n\u001b[1;31mSyntaxError\u001b[0m\u001b[1;31m:\u001b[0m invalid syntax\n"
     ]
    }
   ],
   "source": [
    "#  Because variable names cannot begin with a number\n",
    "eggs =100\n",
    "100  =non variable\n",
    "print(eggs)\n",
    "print(100)"
   ]
  },
  {
   "cell_type": "markdown",
   "id": "44271748",
   "metadata": {},
   "source": [
    "#9. What three functions can be used to get the integer, floating-point number, or string\n",
    "version of a value?"
   ]
  },
  {
   "cell_type": "code",
   "execution_count": 24,
   "id": "19c435b1",
   "metadata": {},
   "outputs": [
    {
     "name": "stdout",
     "output_type": "stream",
     "text": [
      "-30\n",
      "-30.35\n",
      "king\n"
     ]
    }
   ],
   "source": [
    "# The int(), float(), and str() functions will evaluate to the integer, floating-point number, and string\n",
    "\n",
    "a=-30.35\n",
    "b= \"king\"\n",
    "print(int(a))\n",
    "print(float(a))\n",
    "print(b) # input corressponding   result will be string\n",
    "         #$ input() returns string\n",
    "         # ****input function in python is in string***"
   ]
  },
  {
   "cell_type": "markdown",
   "id": "45e5d635",
   "metadata": {},
   "source": [
    "#10. Why does this expression cause an error? How can you fix it?\n",
    "I have eaten  + 99 +  burritos"
   ]
  },
  {
   "cell_type": "code",
   "execution_count": 28,
   "id": "d1697d14",
   "metadata": {},
   "outputs": [
    {
     "ename": "TypeError",
     "evalue": "can only concatenate str (not \"int\") to str",
     "output_type": "error",
     "traceback": [
      "\u001b[1;31m---------------------------------------------------------------------------\u001b[0m",
      "\u001b[1;31mTypeError\u001b[0m                                 Traceback (most recent call last)",
      "Cell \u001b[1;32mIn[28], line 1\u001b[0m\n\u001b[1;32m----> 1\u001b[0m \u001b[38;5;124;43m\"\u001b[39;49m\u001b[38;5;124;43mI have eaten\u001b[39;49m\u001b[38;5;124;43m\"\u001b[39;49m\u001b[43m \u001b[49m\u001b[38;5;241;43m+\u001b[39;49m\u001b[43m \u001b[49m\u001b[38;5;241;43m99\u001b[39;49m \u001b[38;5;241m+\u001b[39m\u001b[38;5;124m\"\u001b[39m\u001b[38;5;124m burritos\u001b[39m\u001b[38;5;124m\"\u001b[39m\n",
      "\u001b[1;31mTypeError\u001b[0m: can only concatenate str (not \"int\") to str"
     ]
    }
   ],
   "source": [
    "\"I have eaten\" + 99 +\" burritos\""
   ]
  },
  {
   "cell_type": "code",
   "execution_count": 29,
   "id": "3a5d1621",
   "metadata": {},
   "outputs": [
    {
     "data": {
      "text/plain": [
       "'I have eaten 99 burritos'"
      ]
     },
     "execution_count": 29,
     "metadata": {},
     "output_type": "execute_result"
    }
   ],
   "source": [
    "\"I have eaten\" + \" 99\" +\" burritos\""
   ]
  },
  {
   "cell_type": "code",
   "execution_count": null,
   "id": "0494444b",
   "metadata": {},
   "outputs": [],
   "source": []
  }
 ],
 "metadata": {
  "kernelspec": {
   "display_name": "Python 3 (ipykernel)",
   "language": "python",
   "name": "python3"
  },
  "language_info": {
   "codemirror_mode": {
    "name": "ipython",
    "version": 3
   },
   "file_extension": ".py",
   "mimetype": "text/x-python",
   "name": "python",
   "nbconvert_exporter": "python",
   "pygments_lexer": "ipython3",
   "version": "3.10.9"
  }
 },
 "nbformat": 4,
 "nbformat_minor": 5
}
